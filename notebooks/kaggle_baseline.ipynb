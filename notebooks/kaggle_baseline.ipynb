{
  "cells": [
    {
      "cell_type": "markdown",
      "metadata": {
        "id": "ZTlgdKiOXI4L"
      },
      "source": [
        "## Baseline\n",
        "This notebook implments a baseline model, which shows you how to handle the data and to provide a first very simple solution to the problem. You may re-use and modify any part of this notebook."
      ]
    },
    {
      "cell_type": "markdown",
      "metadata": {},
      "source": [
        "why do we use cnn for nlp\n",
        "CNN can be used for NLP in orde to extract features from the text. CNNs are good at finding local patterns in the data. In NLP, a word can be represented by its surrounding words. So, CNNs can be used to find the relationship between the words in a sentence. CNNs can also be used for text classification."
      ]
    },
    {
      "cell_type": "code",
      "execution_count": 1,
      "metadata": {
        "id": "bkAdPWLCX5aN"
      },
      "outputs": [],
      "source": [
        "import os\n",
        "import csv\n",
        "import torch\n",
        "import pickle\n",
        "import numpy as np\n",
        "import pandas as pd\n",
        "import torch.nn as nn\n",
        "import torch.optim as optim\n",
        "import torch.nn.functional as F\n",
        "from tqdm.notebook import tqdm\n",
        "from torch.utils.data import Dataset, DataLoader\n",
        "from sklearn.model_selection import train_test_split\n",
        "from sklearn.feature_extraction.text import CountVectorizer\n",
        "from torchmetrics import AUROC, F1Score"
      ]
    },
    {
      "cell_type": "code",
      "execution_count": 2,
      "metadata": {
        "colab": {
          "base_uri": "https://localhost:8080/"
        },
        "id": "TDaf0-u6X-ZY",
        "outputId": "31b6e0d9-8df4-485e-dc91-177f26f9c849"
      },
      "outputs": [],
      "source": [
        "data_dir = '../kaggle_data'"
      ]
    },
    {
      "cell_type": "code",
      "execution_count": 3,
      "metadata": {
        "colab": {
          "base_uri": "https://localhost:8080/"
        },
        "id": "tWvjXjZxZ42a",
        "outputId": "90539351-8c88-474e-8e1a-2b4cc1176a00"
      },
      "outputs": [
        {
          "data": {
            "text/plain": [
              "<torch._C.Generator at 0x127e2e250>"
            ]
          },
          "execution_count": 3,
          "metadata": {},
          "output_type": "execute_result"
        }
      ],
      "source": [
        "torch.manual_seed(0)"
      ]
    },
    {
      "cell_type": "markdown",
      "metadata": {
        "id": "-d0oZIzsYZxc"
      },
      "source": [
        "We first start by defining the dataset class which takes as input the path to the data and the mode (`train`, `val`, or `train`). This fits a count vectorizer using the training set, and uses it on the validation and test sets."
      ]
    },
    {
      "cell_type": "code",
      "execution_count": 4,
      "metadata": {
        "id": "d0iRAas2XFu6"
      },
      "outputs": [],
      "source": [
        "class BaselineDataset(Dataset):\n",
        "    def __init__(self, data_dir, mode, vectorizer=None):\n",
        "        super(BaselineDataset, self).__init__()\n",
        "        assert mode in ['train', 'val', 'test']\n",
        "        self.mode = mode\n",
        "\n",
        "        # load the data\n",
        "        self.data = pd.read_csv(os.path.join(data_dir, f'{mode}_x.csv'), index_col=0)\n",
        "        self.data.fillna('', inplace=True)\n",
        "\n",
        "        # load the labels if not the test set\n",
        "        if self.mode != 'test':\n",
        "            self.label = pd.read_csv(os.path.join(data_dir, f'{mode}_y.csv'))\n",
        "\n",
        "        # train the vectorizer if train set\n",
        "        if self.mode == 'train':\n",
        "            self.vectorizer = CountVectorizer()\n",
        "            self.vectorizer.fit(self.data.values.flatten().tolist())\n",
        "        # otherwise use the vectorizer given as arguments (which was trained on the train set)\n",
        "        else:\n",
        "            self.vectorizer = vectorizer\n",
        "\n",
        "    def __len__(self):\n",
        "        return len(self.data)\n",
        "\n",
        "    def __getitem__(self, idx):\n",
        "        x = self.data.iloc[idx, 0]\n",
        "        x = self.vectorizer.transform([x]).toarray()\n",
        "        x = torch.tensor(x).float()\n",
        "        if self.mode == 'test':\n",
        "            return x, idx\n",
        "        else:\n",
        "            y = torch.tensor([self.label.iloc[idx, -2]])\n",
        "            return x, y, idx"
      ]
    },
    {
      "cell_type": "code",
      "execution_count": 5,
      "metadata": {
        "id": "wn8G9rMAYS1r"
      },
      "outputs": [],
      "source": [
        "train_dataset = BaselineDataset(data_dir, 'train')\n",
        "val_dataset = BaselineDataset(data_dir, 'val', train_dataset.vectorizer)"
      ]
    },
    {
      "cell_type": "code",
      "execution_count": 6,
      "metadata": {
        "id": "3wzXGubTYWAG"
      },
      "outputs": [],
      "source": [
        "train_dataloader = DataLoader(train_dataset, batch_size=256, shuffle=True)\n",
        "val_dataloader = DataLoader(val_dataset, batch_size=256, shuffle=False)"
      ]
    },
    {
      "cell_type": "markdown",
      "metadata": {
        "id": "D3KdA2stYvSV"
      },
      "source": [
        "We will define two models, one which will be a simple MLP, and another one which will generate random predictions to use as comparison."
      ]
    },
    {
      "cell_type": "code",
      "execution_count": 7,
      "metadata": {
        "id": "BEX8JbFgYXQ2"
      },
      "outputs": [],
      "source": [
        "class BaselineClassifier(nn.Module):\n",
        "    def __init__(self, input_size, hidden_dim):\n",
        "        super(BaselineClassifier, self).__init__()\n",
        "        self.fc1 = nn.Linear(input_size, hidden_dim)\n",
        "        self.fc2 = nn.Linear(hidden_dim, 1)\n",
        "\n",
        "    def forward(self, x):\n",
        "        x = F.relu(self.fc1(x))\n",
        "        x = F.sigmoid(self.fc2(x))\n",
        "        return x"
      ]
    },
    {
      "cell_type": "code",
      "execution_count": 8,
      "metadata": {
        "id": "rKPhYvZgZM9g"
      },
      "outputs": [],
      "source": [
        "class RandomClassifier(nn.Module):\n",
        "    def __init__(self):\n",
        "        super(RandomClassifier, self).__init__()\n",
        "\n",
        "    def forward(self, x):\n",
        "        x = torch.rand(len(x))\n",
        "        return x"
      ]
    },
    {
      "cell_type": "markdown",
      "metadata": {
        "id": "qYXQamxwaF4C"
      },
      "source": [
        "Let's check the performance of the random classifier on the validation set."
      ]
    },
    {
      "cell_type": "code",
      "execution_count": 9,
      "metadata": {
        "id": "I2aXR27S9WoL"
      },
      "outputs": [],
      "source": [
        "def worst_group_accuracy(prediction, y):\n",
        "    \"\"\"\n",
        "        Compute the worst group accuracy, with the groups being defined by ['male', 'female', 'LGBTQ',\n",
        "        'christian', 'muslim', 'other_religions', 'black', 'white'] for positive and negative toxicity.\n",
        "        arguments:\n",
        "            prediction [pandas.DataFrame]: dataframe with 2 columns (index and pred)\n",
        "            y [pandas.DataFrame]: dataframe containing the metadata\n",
        "        returns:\n",
        "            wga [float]: worst group accuracy\n",
        "    \"\"\"\n",
        "    y.loc[prediction.index, 'pred'] = prediction.pred\n",
        "\n",
        "    categories = ['male', 'female', 'LGBTQ', 'christian', 'muslim', 'other_religions', 'black', 'white']\n",
        "    accuracies = []\n",
        "    for category in categories:\n",
        "        for label in [0, 1]:\n",
        "            group = y.loc[y[category] == label]\n",
        "            group_accuracy = (group['y'] == (group['pred'] > 0.5)).mean()\n",
        "            accuracies.append(group_accuracy)\n",
        "    print(accuracies)\n",
        "    wga = np.min(accuracies)\n",
        "    return wga"
      ]
    },
    {
      "cell_type": "code",
      "execution_count": 10,
      "metadata": {
        "id": "fKqdWcpJbSe3"
      },
      "outputs": [],
      "source": [
        "def evaluate_model(model, dataloader, criterion):\n",
        "    \"\"\"\n",
        "        Evaluate the model on a given dataloader.\n",
        "        argument:\n",
        "            model [torch.nn.Module]: model to evaluate\n",
        "            dataloader [torch.utils.data.DataLoader]: dataloader on which to evaluate\n",
        "            criterion [torch.nn.modules.loss]: desired loss to compute\n",
        "        returns:\n",
        "            dataset_loss [float]: computed loss on the dataset\n",
        "            dataset_metric [float]: computed metric on the dataset\n",
        "    \"\"\"\n",
        "    model.eval()\n",
        "    losses, predictions, indices = [], [], []\n",
        "    for x, y, idx in tqdm(dataloader, leave=False):\n",
        "        with torch.no_grad():\n",
        "            pred = model(x)\n",
        "        loss = criterion(pred.squeeze(), y.squeeze().float())\n",
        "        losses.extend([loss.item()] * len(y))\n",
        "        predictions.extend(pred.detach().squeeze().tolist())\n",
        "        indices.extend(idx.tolist())\n",
        "\n",
        "    pred_df = pd.DataFrame({'index': indices, 'pred': predictions})\n",
        "    dataset_loss = np.mean(losses)\n",
        "    dataset_metric = worst_group_accuracy(pred_df, dataloader.dataset.label)\n",
        "    return dataset_loss, dataset_metric"
      ]
    },
    {
      "cell_type": "code",
      "execution_count": 11,
      "metadata": {
        "id": "SNc_M5YQa2Q8"
      },
      "outputs": [],
      "source": [
        "model = RandomClassifier()\n",
        "criterion = nn.BCELoss()\n",
        "metric = F1Score(task='binary')"
      ]
    },
    {
      "cell_type": "code",
      "execution_count": 12,
      "metadata": {
        "colab": {
          "base_uri": "https://localhost:8080/",
          "height": 35,
          "referenced_widgets": [
            "a278cd52500e46dd933abd9152f16273",
            "0d94f78f698d4672852d8ebc72fa9901",
            "199d200bd5334c4fa5feee7abb2f985d",
            "02e379a3b5c4432dbdf69a446ec16339",
            "8dbc1c432182467fba19bc079fee41b1",
            "f825373b30be415fb7232b730b101868",
            "6ff031959bf6405ba398cc5a15817ec4",
            "f59327ef821b45978e78342da374be3e",
            "75b72b151d5747d79b2c9ca636b9aacc",
            "cef880beb4d04e7f8575b136d225de7f",
            "20f52363c3094fa0a07e4acdf777fd19"
          ]
        },
        "id": "q7DfwDDLaazc",
        "outputId": "d712cacb-568c-430f-f7e7-e6f89e687c44"
      },
      "outputs": [
        {
          "data": {
            "application/vnd.jupyter.widget-view+json": {
              "model_id": "d5e00610a09544e89fc99f57f10bbbd7",
              "version_major": 2,
              "version_minor": 0
            },
            "text/plain": [
              "  0%|          | 0/177 [00:00<?, ?it/s]"
            ]
          },
          "metadata": {},
          "output_type": "display_data"
        },
        {
          "name": "stdout",
          "output_type": "stream",
          "text": [
            "[0.4978844488432513, 0.48982161594963275, 0.49769655628801956, 0.4926158546936004, 0.4965578757175857, 0.511324639670556, 0.496775781442284, 0.49934065934065935, 0.4982586487114, 0.4720379146919431, 0.4974657193284156, 0.4776876267748479, 0.4974728910126815, 0.4854721549636804, 0.4973176092453856, 0.492849668643181]\n",
            "Random classifier validation loss 1.0027 WGA 0.4720\n"
          ]
        }
      ],
      "source": [
        "random_val_loss, random_val_metric = evaluate_model(model, val_dataloader, criterion)\n",
        "print(f'Random classifier validation loss {random_val_loss:.4f} WGA {random_val_metric:.4f}')"
      ]
    },
    {
      "cell_type": "markdown",
      "metadata": {
        "id": "9aNozh2Kdyly"
      },
      "source": [
        "Now let's train the MLP baseline classifier."
      ]
    },
    {
      "cell_type": "code",
      "execution_count": 13,
      "metadata": {
        "id": "10PKDh-QeIX7"
      },
      "outputs": [],
      "source": [
        "def train_model(model, optimizer, criterion, dataloader):\n",
        "    \"\"\"\n",
        "        Train a model for one epoch.\n",
        "        arguments:\n",
        "            model [torch.nn.Module]: model to evaluate\n",
        "            oprimizer [torch.optim]: optimizer used for training\n",
        "            criterion [torch.nn.modules.loss]: desired loss to compute\n",
        "            dataloader [torch.utils.data.DataLoader]: dataloader used for training\n",
        "        returns:\n",
        "            dataset_loss [float]: computed loss on the dataset\n",
        "            dataset_metric [float]: computed metric on the dataset\n",
        "    \"\"\"\n",
        "    model.train()\n",
        "    losses, predictions, indices = [], [], []\n",
        "    for x, y, idx in tqdm(dataloader, leave=False):\n",
        "        optimizer.zero_grad()\n",
        "        pred = model(x)\n",
        "        loss = criterion(pred.squeeze(), y.squeeze().float())\n",
        "        loss.backward()\n",
        "        optimizer.step()\n",
        "\n",
        "        losses.extend([loss.item()] * len(y))\n",
        "        predictions.extend(pred.detach().squeeze().tolist())\n",
        "        indices.extend(idx.tolist())\n",
        "\n",
        "    pred_df = pd.DataFrame({'index': indices, 'pred': predictions})\n",
        "    dataset_loss = np.mean(losses)\n",
        "    dataset_metric = worst_group_accuracy(pred_df, y = dataloader.dataset.label)\n",
        "    return dataset_loss, dataset_metric"
      ]
    },
    {
      "cell_type": "code",
      "execution_count": 14,
      "metadata": {
        "id": "iKW1pPT9col5"
      },
      "outputs": [],
      "source": [
        "input_size = len(train_dataset.vectorizer.get_feature_names_out())\n",
        "model = BaselineClassifier(input_size, 128)\n",
        "optimizer = optim.AdamW(model.parameters(), lr=0.05, weight_decay=0.1)"
      ]
    },
    {
      "cell_type": "code",
      "execution_count": 15,
      "metadata": {
        "colab": {
          "base_uri": "https://localhost:8080/",
          "height": 35,
          "referenced_widgets": [
            "8081b3f33a1f4537b1ee94c3a2df5e24",
            "fe496236e24444ef907f339ceb2aa62c",
            "9fedb16bb69a4487bc49a90a08de4604",
            "d8dd9af2db32412388c1a3fc858593db",
            "a1f0f1f4ae334f46addd0adb537e8545",
            "882ae13ba1ff400c90c3c526f919a128",
            "97f969307110456fb0bfd6704cd1ca0d",
            "b7d82c44ac144c8085f9c52116647ac1",
            "533876ae8e5840518456e4358e596d26",
            "25cc25fd5c6041aab4411657239d79d1",
            "e208f76c4d844be9966bcdb4eb3e426e",
            "54c6c0cfdad44d05b2a3ea9c69a39aa5",
            "a3ddfb86cad94ea68dedae59b5cce923",
            "1ab8682db8f34e0d900fe612012a5764",
            "2c4d3e40b7ac46199b5820c267327b42",
            "460325c13fb3479db489ccc37f81005a",
            "903ad7c018894450811f8b0e3a10c253",
            "9ab037319a9a483da59c2f8ceede822e",
            "2a67f907d4764853a6f35b27fce1c00b",
            "81f53886a7534f85a7ac7f354dce6535",
            "4376321787344711aabf9e2119fc0659",
            "834de7f1fa734b128547f691ff8b1062"
          ]
        },
        "id": "IW-uoNPGfGPB",
        "outputId": "47105994-d812-4c26-91e7-a5c7b536ad11"
      },
      "outputs": [
        {
          "data": {
            "application/vnd.jupyter.widget-view+json": {
              "model_id": "7a6a90cefea54264b44b94f663cedceb",
              "version_major": 2,
              "version_minor": 0
            },
            "text/plain": [
              "  0%|          | 0/1051 [00:00<?, ?it/s]"
            ]
          },
          "metadata": {},
          "output_type": "display_data"
        },
        {
          "name": "stdout",
          "output_type": "stream",
          "text": [
            "[0.8684267727857943, 0.8279436430727943, 0.8678488277189275, 0.8388422911378435, 0.868784964967884, 0.7140142517814727, 0.8620470491126703, 0.8811055426733488, 0.8696547019805241, 0.7594954851655439, 0.8649302460246711, 0.8242665036674817, 0.87135238595056, 0.6698666127728375, 0.8745898391059681, 0.7030183255479698]\n"
          ]
        },
        {
          "data": {
            "application/vnd.jupyter.widget-view+json": {
              "model_id": "1ee531932e9743dfb01b4c7ad5065fb2",
              "version_major": 2,
              "version_minor": 0
            },
            "text/plain": [
              "  0%|          | 0/177 [00:00<?, ?it/s]"
            ]
          },
          "metadata": {},
          "output_type": "display_data"
        },
        {
          "name": "stdout",
          "output_type": "stream",
          "text": [
            "[0.9067178027959916, 0.8629590766002099, 0.9059533202677594, 0.8764216601595655, 0.9062964572421838, 0.7762525737817433, 0.9005660841742554, 0.9158241758241759, 0.9078709078244718, 0.7843601895734598, 0.903335294383853, 0.8468559837728195, 0.909506524535931, 0.7070217917675545, 0.913336326897171, 0.7363097314265783]\n",
            "MLP classifier validation loss 0.1999 WGA 0.7070\n"
          ]
        }
      ],
      "source": [
        "train_loss, train_metric = train_model(model, optimizer, criterion, train_dataloader)\n",
        "mlp_val_loss, mlp_val_metric = evaluate_model(model, val_dataloader, criterion)\n",
        "print(f'MLP classifier validation loss {mlp_val_loss:.4f} WGA {mlp_val_metric:.4f}')"
      ]
    },
    {
      "cell_type": "markdown",
      "metadata": {
        "id": "rSiizvRpr_5J"
      },
      "source": [
        "Once we are happy with our results, we want to make a prediction on the test set. Your submission `.csv` file should contain 2 columns:\n",
        "- ID: with the id of each prediction (do not shuffle to not mix things up)\n",
        "- pred: the prediction of the model (thresholded or not)"
      ]
    },
    {
      "cell_type": "code",
      "execution_count": 16,
      "metadata": {
        "colab": {
          "base_uri": "https://localhost:8080/",
          "height": 17,
          "referenced_widgets": [
            "1ff00ceecf7546999dc52c9a40664875",
            "9f7bc331ad1842a48d69a990c2f7e25b",
            "64f09c87a8c64a1aa5aa132d737a8e34",
            "bd85be352a8b45e5a1af06c3db7a62e5",
            "e040bc9ae23e4d9995985184f69d976b",
            "91723b0258284e9d816538383e4dc00d",
            "4478ebc6f580473dac120f8adb880060",
            "4a48520f7757448383bb5ba46176de07",
            "849acb573a4040b9afff4a601f6064c5",
            "30d89d99cbc84ae098d2d9cc157be663",
            "2c818a35dd4d48ea95d66b4d69516b3f"
          ]
        },
        "id": "TXoPeUTjsxNu",
        "outputId": "fc9b86f3-9e45-413a-e320-70733f1a6d1f"
      },
      "outputs": [
        {
          "data": {
            "application/vnd.jupyter.widget-view+json": {
              "model_id": "9a0783d9ca3b48c684be6ef9ed7ce345",
              "version_major": 2,
              "version_minor": 0
            },
            "text/plain": [
              "  0%|          | 0/262 [00:00<?, ?it/s]"
            ]
          },
          "metadata": {},
          "output_type": "display_data"
        }
      ],
      "source": [
        "#model = RandomClassifier()\n",
        "test_dataset = BaselineDataset(data_dir, 'test', train_dataset.vectorizer)\n",
        "test_dataloader = DataLoader(test_dataset, batch_size=512, shuffle=False)\n",
        "model.eval()\n",
        "test_predictions, indices = [], []\n",
        "for x, idx in tqdm(test_dataloader, leave=False):\n",
        "    with torch.no_grad():\n",
        "        pred = (model(x).squeeze() > 0.5).int()\n",
        "    test_predictions.extend(pred.tolist())\n",
        "    indices.extend(idx.tolist())"
      ]
    },
    {
      "cell_type": "code",
      "execution_count": null,
      "metadata": {
        "id": "mzlemJhdFwNo"
      },
      "outputs": [],
      "source": [
        "pred_df = pd.DataFrame({'ID': indices, 'pred': test_predictions})\n",
        "pred_df.to_csv('../prediction.csv', index=False)"
      ]
    }
  ],
  "metadata": {
    "accelerator": "GPU",
    "colab": {
      "gpuType": "T4",
      "provenance": []
    },
    "kernelspec": {
      "display_name": "Python 3",
      "name": "python3"
    },
    "language_info": {
      "codemirror_mode": {
        "name": "ipython",
        "version": 3
      },
      "file_extension": ".py",
      "mimetype": "text/x-python",
      "name": "python",
      "nbconvert_exporter": "python",
      "pygments_lexer": "ipython3",
      "version": "3.9.18"
    },
    "widgets": {
      "application/vnd.jupyter.widget-state+json": {
        "02e379a3b5c4432dbdf69a446ec16339": {
          "model_module": "@jupyter-widgets/controls",
          "model_module_version": "1.5.0",
          "model_name": "HTMLModel",
          "state": {
            "_dom_classes": [],
            "_model_module": "@jupyter-widgets/controls",
            "_model_module_version": "1.5.0",
            "_model_name": "HTMLModel",
            "_view_count": null,
            "_view_module": "@jupyter-widgets/controls",
            "_view_module_version": "1.5.0",
            "_view_name": "HTMLView",
            "description": "",
            "description_tooltip": null,
            "layout": "IPY_MODEL_cef880beb4d04e7f8575b136d225de7f",
            "placeholder": "​",
            "style": "IPY_MODEL_20f52363c3094fa0a07e4acdf777fd19",
            "value": " 177/177 [00:56&lt;00:00,  4.56it/s]"
          }
        },
        "0d94f78f698d4672852d8ebc72fa9901": {
          "model_module": "@jupyter-widgets/controls",
          "model_module_version": "1.5.0",
          "model_name": "HTMLModel",
          "state": {
            "_dom_classes": [],
            "_model_module": "@jupyter-widgets/controls",
            "_model_module_version": "1.5.0",
            "_model_name": "HTMLModel",
            "_view_count": null,
            "_view_module": "@jupyter-widgets/controls",
            "_view_module_version": "1.5.0",
            "_view_name": "HTMLView",
            "description": "",
            "description_tooltip": null,
            "layout": "IPY_MODEL_f825373b30be415fb7232b730b101868",
            "placeholder": "​",
            "style": "IPY_MODEL_6ff031959bf6405ba398cc5a15817ec4",
            "value": "100%"
          }
        },
        "199d200bd5334c4fa5feee7abb2f985d": {
          "model_module": "@jupyter-widgets/controls",
          "model_module_version": "1.5.0",
          "model_name": "FloatProgressModel",
          "state": {
            "_dom_classes": [],
            "_model_module": "@jupyter-widgets/controls",
            "_model_module_version": "1.5.0",
            "_model_name": "FloatProgressModel",
            "_view_count": null,
            "_view_module": "@jupyter-widgets/controls",
            "_view_module_version": "1.5.0",
            "_view_name": "ProgressView",
            "bar_style": "",
            "description": "",
            "description_tooltip": null,
            "layout": "IPY_MODEL_f59327ef821b45978e78342da374be3e",
            "max": 177,
            "min": 0,
            "orientation": "horizontal",
            "style": "IPY_MODEL_75b72b151d5747d79b2c9ca636b9aacc",
            "value": 177
          }
        },
        "1ab8682db8f34e0d900fe612012a5764": {
          "model_module": "@jupyter-widgets/controls",
          "model_module_version": "1.5.0",
          "model_name": "FloatProgressModel",
          "state": {
            "_dom_classes": [],
            "_model_module": "@jupyter-widgets/controls",
            "_model_module_version": "1.5.0",
            "_model_name": "FloatProgressModel",
            "_view_count": null,
            "_view_module": "@jupyter-widgets/controls",
            "_view_module_version": "1.5.0",
            "_view_name": "ProgressView",
            "bar_style": "",
            "description": "",
            "description_tooltip": null,
            "layout": "IPY_MODEL_2a67f907d4764853a6f35b27fce1c00b",
            "max": 177,
            "min": 0,
            "orientation": "horizontal",
            "style": "IPY_MODEL_81f53886a7534f85a7ac7f354dce6535",
            "value": 177
          }
        },
        "1ff00ceecf7546999dc52c9a40664875": {
          "model_module": "@jupyter-widgets/controls",
          "model_module_version": "1.5.0",
          "model_name": "HBoxModel",
          "state": {
            "_dom_classes": [],
            "_model_module": "@jupyter-widgets/controls",
            "_model_module_version": "1.5.0",
            "_model_name": "HBoxModel",
            "_view_count": null,
            "_view_module": "@jupyter-widgets/controls",
            "_view_module_version": "1.5.0",
            "_view_name": "HBoxView",
            "box_style": "",
            "children": [
              "IPY_MODEL_9f7bc331ad1842a48d69a990c2f7e25b",
              "IPY_MODEL_64f09c87a8c64a1aa5aa132d737a8e34",
              "IPY_MODEL_bd85be352a8b45e5a1af06c3db7a62e5"
            ],
            "layout": "IPY_MODEL_e040bc9ae23e4d9995985184f69d976b"
          }
        },
        "20f52363c3094fa0a07e4acdf777fd19": {
          "model_module": "@jupyter-widgets/controls",
          "model_module_version": "1.5.0",
          "model_name": "DescriptionStyleModel",
          "state": {
            "_model_module": "@jupyter-widgets/controls",
            "_model_module_version": "1.5.0",
            "_model_name": "DescriptionStyleModel",
            "_view_count": null,
            "_view_module": "@jupyter-widgets/base",
            "_view_module_version": "1.2.0",
            "_view_name": "StyleView",
            "description_width": ""
          }
        },
        "25cc25fd5c6041aab4411657239d79d1": {
          "model_module": "@jupyter-widgets/base",
          "model_module_version": "1.2.0",
          "model_name": "LayoutModel",
          "state": {
            "_model_module": "@jupyter-widgets/base",
            "_model_module_version": "1.2.0",
            "_model_name": "LayoutModel",
            "_view_count": null,
            "_view_module": "@jupyter-widgets/base",
            "_view_module_version": "1.2.0",
            "_view_name": "LayoutView",
            "align_content": null,
            "align_items": null,
            "align_self": null,
            "border": null,
            "bottom": null,
            "display": null,
            "flex": null,
            "flex_flow": null,
            "grid_area": null,
            "grid_auto_columns": null,
            "grid_auto_flow": null,
            "grid_auto_rows": null,
            "grid_column": null,
            "grid_gap": null,
            "grid_row": null,
            "grid_template_areas": null,
            "grid_template_columns": null,
            "grid_template_rows": null,
            "height": null,
            "justify_content": null,
            "justify_items": null,
            "left": null,
            "margin": null,
            "max_height": null,
            "max_width": null,
            "min_height": null,
            "min_width": null,
            "object_fit": null,
            "object_position": null,
            "order": null,
            "overflow": null,
            "overflow_x": null,
            "overflow_y": null,
            "padding": null,
            "right": null,
            "top": null,
            "visibility": null,
            "width": null
          }
        },
        "2a67f907d4764853a6f35b27fce1c00b": {
          "model_module": "@jupyter-widgets/base",
          "model_module_version": "1.2.0",
          "model_name": "LayoutModel",
          "state": {
            "_model_module": "@jupyter-widgets/base",
            "_model_module_version": "1.2.0",
            "_model_name": "LayoutModel",
            "_view_count": null,
            "_view_module": "@jupyter-widgets/base",
            "_view_module_version": "1.2.0",
            "_view_name": "LayoutView",
            "align_content": null,
            "align_items": null,
            "align_self": null,
            "border": null,
            "bottom": null,
            "display": null,
            "flex": null,
            "flex_flow": null,
            "grid_area": null,
            "grid_auto_columns": null,
            "grid_auto_flow": null,
            "grid_auto_rows": null,
            "grid_column": null,
            "grid_gap": null,
            "grid_row": null,
            "grid_template_areas": null,
            "grid_template_columns": null,
            "grid_template_rows": null,
            "height": null,
            "justify_content": null,
            "justify_items": null,
            "left": null,
            "margin": null,
            "max_height": null,
            "max_width": null,
            "min_height": null,
            "min_width": null,
            "object_fit": null,
            "object_position": null,
            "order": null,
            "overflow": null,
            "overflow_x": null,
            "overflow_y": null,
            "padding": null,
            "right": null,
            "top": null,
            "visibility": null,
            "width": null
          }
        },
        "2c4d3e40b7ac46199b5820c267327b42": {
          "model_module": "@jupyter-widgets/controls",
          "model_module_version": "1.5.0",
          "model_name": "HTMLModel",
          "state": {
            "_dom_classes": [],
            "_model_module": "@jupyter-widgets/controls",
            "_model_module_version": "1.5.0",
            "_model_name": "HTMLModel",
            "_view_count": null,
            "_view_module": "@jupyter-widgets/controls",
            "_view_module_version": "1.5.0",
            "_view_name": "HTMLView",
            "description": "",
            "description_tooltip": null,
            "layout": "IPY_MODEL_4376321787344711aabf9e2119fc0659",
            "placeholder": "​",
            "style": "IPY_MODEL_834de7f1fa734b128547f691ff8b1062",
            "value": " 177/177 [01:16&lt;00:00,  2.87it/s]"
          }
        },
        "2c818a35dd4d48ea95d66b4d69516b3f": {
          "model_module": "@jupyter-widgets/controls",
          "model_module_version": "1.5.0",
          "model_name": "DescriptionStyleModel",
          "state": {
            "_model_module": "@jupyter-widgets/controls",
            "_model_module_version": "1.5.0",
            "_model_name": "DescriptionStyleModel",
            "_view_count": null,
            "_view_module": "@jupyter-widgets/base",
            "_view_module_version": "1.2.0",
            "_view_name": "StyleView",
            "description_width": ""
          }
        },
        "30d89d99cbc84ae098d2d9cc157be663": {
          "model_module": "@jupyter-widgets/base",
          "model_module_version": "1.2.0",
          "model_name": "LayoutModel",
          "state": {
            "_model_module": "@jupyter-widgets/base",
            "_model_module_version": "1.2.0",
            "_model_name": "LayoutModel",
            "_view_count": null,
            "_view_module": "@jupyter-widgets/base",
            "_view_module_version": "1.2.0",
            "_view_name": "LayoutView",
            "align_content": null,
            "align_items": null,
            "align_self": null,
            "border": null,
            "bottom": null,
            "display": null,
            "flex": null,
            "flex_flow": null,
            "grid_area": null,
            "grid_auto_columns": null,
            "grid_auto_flow": null,
            "grid_auto_rows": null,
            "grid_column": null,
            "grid_gap": null,
            "grid_row": null,
            "grid_template_areas": null,
            "grid_template_columns": null,
            "grid_template_rows": null,
            "height": null,
            "justify_content": null,
            "justify_items": null,
            "left": null,
            "margin": null,
            "max_height": null,
            "max_width": null,
            "min_height": null,
            "min_width": null,
            "object_fit": null,
            "object_position": null,
            "order": null,
            "overflow": null,
            "overflow_x": null,
            "overflow_y": null,
            "padding": null,
            "right": null,
            "top": null,
            "visibility": null,
            "width": null
          }
        },
        "4376321787344711aabf9e2119fc0659": {
          "model_module": "@jupyter-widgets/base",
          "model_module_version": "1.2.0",
          "model_name": "LayoutModel",
          "state": {
            "_model_module": "@jupyter-widgets/base",
            "_model_module_version": "1.2.0",
            "_model_name": "LayoutModel",
            "_view_count": null,
            "_view_module": "@jupyter-widgets/base",
            "_view_module_version": "1.2.0",
            "_view_name": "LayoutView",
            "align_content": null,
            "align_items": null,
            "align_self": null,
            "border": null,
            "bottom": null,
            "display": null,
            "flex": null,
            "flex_flow": null,
            "grid_area": null,
            "grid_auto_columns": null,
            "grid_auto_flow": null,
            "grid_auto_rows": null,
            "grid_column": null,
            "grid_gap": null,
            "grid_row": null,
            "grid_template_areas": null,
            "grid_template_columns": null,
            "grid_template_rows": null,
            "height": null,
            "justify_content": null,
            "justify_items": null,
            "left": null,
            "margin": null,
            "max_height": null,
            "max_width": null,
            "min_height": null,
            "min_width": null,
            "object_fit": null,
            "object_position": null,
            "order": null,
            "overflow": null,
            "overflow_x": null,
            "overflow_y": null,
            "padding": null,
            "right": null,
            "top": null,
            "visibility": null,
            "width": null
          }
        },
        "4478ebc6f580473dac120f8adb880060": {
          "model_module": "@jupyter-widgets/controls",
          "model_module_version": "1.5.0",
          "model_name": "DescriptionStyleModel",
          "state": {
            "_model_module": "@jupyter-widgets/controls",
            "_model_module_version": "1.5.0",
            "_model_name": "DescriptionStyleModel",
            "_view_count": null,
            "_view_module": "@jupyter-widgets/base",
            "_view_module_version": "1.2.0",
            "_view_name": "StyleView",
            "description_width": ""
          }
        },
        "460325c13fb3479db489ccc37f81005a": {
          "model_module": "@jupyter-widgets/base",
          "model_module_version": "1.2.0",
          "model_name": "LayoutModel",
          "state": {
            "_model_module": "@jupyter-widgets/base",
            "_model_module_version": "1.2.0",
            "_model_name": "LayoutModel",
            "_view_count": null,
            "_view_module": "@jupyter-widgets/base",
            "_view_module_version": "1.2.0",
            "_view_name": "LayoutView",
            "align_content": null,
            "align_items": null,
            "align_self": null,
            "border": null,
            "bottom": null,
            "display": null,
            "flex": null,
            "flex_flow": null,
            "grid_area": null,
            "grid_auto_columns": null,
            "grid_auto_flow": null,
            "grid_auto_rows": null,
            "grid_column": null,
            "grid_gap": null,
            "grid_row": null,
            "grid_template_areas": null,
            "grid_template_columns": null,
            "grid_template_rows": null,
            "height": null,
            "justify_content": null,
            "justify_items": null,
            "left": null,
            "margin": null,
            "max_height": null,
            "max_width": null,
            "min_height": null,
            "min_width": null,
            "object_fit": null,
            "object_position": null,
            "order": null,
            "overflow": null,
            "overflow_x": null,
            "overflow_y": null,
            "padding": null,
            "right": null,
            "top": null,
            "visibility": "hidden",
            "width": null
          }
        },
        "4a48520f7757448383bb5ba46176de07": {
          "model_module": "@jupyter-widgets/base",
          "model_module_version": "1.2.0",
          "model_name": "LayoutModel",
          "state": {
            "_model_module": "@jupyter-widgets/base",
            "_model_module_version": "1.2.0",
            "_model_name": "LayoutModel",
            "_view_count": null,
            "_view_module": "@jupyter-widgets/base",
            "_view_module_version": "1.2.0",
            "_view_name": "LayoutView",
            "align_content": null,
            "align_items": null,
            "align_self": null,
            "border": null,
            "bottom": null,
            "display": null,
            "flex": null,
            "flex_flow": null,
            "grid_area": null,
            "grid_auto_columns": null,
            "grid_auto_flow": null,
            "grid_auto_rows": null,
            "grid_column": null,
            "grid_gap": null,
            "grid_row": null,
            "grid_template_areas": null,
            "grid_template_columns": null,
            "grid_template_rows": null,
            "height": null,
            "justify_content": null,
            "justify_items": null,
            "left": null,
            "margin": null,
            "max_height": null,
            "max_width": null,
            "min_height": null,
            "min_width": null,
            "object_fit": null,
            "object_position": null,
            "order": null,
            "overflow": null,
            "overflow_x": null,
            "overflow_y": null,
            "padding": null,
            "right": null,
            "top": null,
            "visibility": null,
            "width": null
          }
        },
        "533876ae8e5840518456e4358e596d26": {
          "model_module": "@jupyter-widgets/controls",
          "model_module_version": "1.5.0",
          "model_name": "ProgressStyleModel",
          "state": {
            "_model_module": "@jupyter-widgets/controls",
            "_model_module_version": "1.5.0",
            "_model_name": "ProgressStyleModel",
            "_view_count": null,
            "_view_module": "@jupyter-widgets/base",
            "_view_module_version": "1.2.0",
            "_view_name": "StyleView",
            "bar_color": null,
            "description_width": ""
          }
        },
        "54c6c0cfdad44d05b2a3ea9c69a39aa5": {
          "model_module": "@jupyter-widgets/controls",
          "model_module_version": "1.5.0",
          "model_name": "HBoxModel",
          "state": {
            "_dom_classes": [],
            "_model_module": "@jupyter-widgets/controls",
            "_model_module_version": "1.5.0",
            "_model_name": "HBoxModel",
            "_view_count": null,
            "_view_module": "@jupyter-widgets/controls",
            "_view_module_version": "1.5.0",
            "_view_name": "HBoxView",
            "box_style": "",
            "children": [
              "IPY_MODEL_a3ddfb86cad94ea68dedae59b5cce923",
              "IPY_MODEL_1ab8682db8f34e0d900fe612012a5764",
              "IPY_MODEL_2c4d3e40b7ac46199b5820c267327b42"
            ],
            "layout": "IPY_MODEL_460325c13fb3479db489ccc37f81005a"
          }
        },
        "64f09c87a8c64a1aa5aa132d737a8e34": {
          "model_module": "@jupyter-widgets/controls",
          "model_module_version": "1.5.0",
          "model_name": "FloatProgressModel",
          "state": {
            "_dom_classes": [],
            "_model_module": "@jupyter-widgets/controls",
            "_model_module_version": "1.5.0",
            "_model_name": "FloatProgressModel",
            "_view_count": null,
            "_view_module": "@jupyter-widgets/controls",
            "_view_module_version": "1.5.0",
            "_view_name": "ProgressView",
            "bar_style": "",
            "description": "",
            "description_tooltip": null,
            "layout": "IPY_MODEL_4a48520f7757448383bb5ba46176de07",
            "max": 262,
            "min": 0,
            "orientation": "horizontal",
            "style": "IPY_MODEL_849acb573a4040b9afff4a601f6064c5",
            "value": 262
          }
        },
        "6ff031959bf6405ba398cc5a15817ec4": {
          "model_module": "@jupyter-widgets/controls",
          "model_module_version": "1.5.0",
          "model_name": "DescriptionStyleModel",
          "state": {
            "_model_module": "@jupyter-widgets/controls",
            "_model_module_version": "1.5.0",
            "_model_name": "DescriptionStyleModel",
            "_view_count": null,
            "_view_module": "@jupyter-widgets/base",
            "_view_module_version": "1.2.0",
            "_view_name": "StyleView",
            "description_width": ""
          }
        },
        "75b72b151d5747d79b2c9ca636b9aacc": {
          "model_module": "@jupyter-widgets/controls",
          "model_module_version": "1.5.0",
          "model_name": "ProgressStyleModel",
          "state": {
            "_model_module": "@jupyter-widgets/controls",
            "_model_module_version": "1.5.0",
            "_model_name": "ProgressStyleModel",
            "_view_count": null,
            "_view_module": "@jupyter-widgets/base",
            "_view_module_version": "1.2.0",
            "_view_name": "StyleView",
            "bar_color": null,
            "description_width": ""
          }
        },
        "8081b3f33a1f4537b1ee94c3a2df5e24": {
          "model_module": "@jupyter-widgets/controls",
          "model_module_version": "1.5.0",
          "model_name": "HBoxModel",
          "state": {
            "_dom_classes": [],
            "_model_module": "@jupyter-widgets/controls",
            "_model_module_version": "1.5.0",
            "_model_name": "HBoxModel",
            "_view_count": null,
            "_view_module": "@jupyter-widgets/controls",
            "_view_module_version": "1.5.0",
            "_view_name": "HBoxView",
            "box_style": "",
            "children": [
              "IPY_MODEL_fe496236e24444ef907f339ceb2aa62c",
              "IPY_MODEL_9fedb16bb69a4487bc49a90a08de4604",
              "IPY_MODEL_d8dd9af2db32412388c1a3fc858593db"
            ],
            "layout": "IPY_MODEL_a1f0f1f4ae334f46addd0adb537e8545"
          }
        },
        "81f53886a7534f85a7ac7f354dce6535": {
          "model_module": "@jupyter-widgets/controls",
          "model_module_version": "1.5.0",
          "model_name": "ProgressStyleModel",
          "state": {
            "_model_module": "@jupyter-widgets/controls",
            "_model_module_version": "1.5.0",
            "_model_name": "ProgressStyleModel",
            "_view_count": null,
            "_view_module": "@jupyter-widgets/base",
            "_view_module_version": "1.2.0",
            "_view_name": "StyleView",
            "bar_color": null,
            "description_width": ""
          }
        },
        "834de7f1fa734b128547f691ff8b1062": {
          "model_module": "@jupyter-widgets/controls",
          "model_module_version": "1.5.0",
          "model_name": "DescriptionStyleModel",
          "state": {
            "_model_module": "@jupyter-widgets/controls",
            "_model_module_version": "1.5.0",
            "_model_name": "DescriptionStyleModel",
            "_view_count": null,
            "_view_module": "@jupyter-widgets/base",
            "_view_module_version": "1.2.0",
            "_view_name": "StyleView",
            "description_width": ""
          }
        },
        "849acb573a4040b9afff4a601f6064c5": {
          "model_module": "@jupyter-widgets/controls",
          "model_module_version": "1.5.0",
          "model_name": "ProgressStyleModel",
          "state": {
            "_model_module": "@jupyter-widgets/controls",
            "_model_module_version": "1.5.0",
            "_model_name": "ProgressStyleModel",
            "_view_count": null,
            "_view_module": "@jupyter-widgets/base",
            "_view_module_version": "1.2.0",
            "_view_name": "StyleView",
            "bar_color": null,
            "description_width": ""
          }
        },
        "882ae13ba1ff400c90c3c526f919a128": {
          "model_module": "@jupyter-widgets/base",
          "model_module_version": "1.2.0",
          "model_name": "LayoutModel",
          "state": {
            "_model_module": "@jupyter-widgets/base",
            "_model_module_version": "1.2.0",
            "_model_name": "LayoutModel",
            "_view_count": null,
            "_view_module": "@jupyter-widgets/base",
            "_view_module_version": "1.2.0",
            "_view_name": "LayoutView",
            "align_content": null,
            "align_items": null,
            "align_self": null,
            "border": null,
            "bottom": null,
            "display": null,
            "flex": null,
            "flex_flow": null,
            "grid_area": null,
            "grid_auto_columns": null,
            "grid_auto_flow": null,
            "grid_auto_rows": null,
            "grid_column": null,
            "grid_gap": null,
            "grid_row": null,
            "grid_template_areas": null,
            "grid_template_columns": null,
            "grid_template_rows": null,
            "height": null,
            "justify_content": null,
            "justify_items": null,
            "left": null,
            "margin": null,
            "max_height": null,
            "max_width": null,
            "min_height": null,
            "min_width": null,
            "object_fit": null,
            "object_position": null,
            "order": null,
            "overflow": null,
            "overflow_x": null,
            "overflow_y": null,
            "padding": null,
            "right": null,
            "top": null,
            "visibility": null,
            "width": null
          }
        },
        "8dbc1c432182467fba19bc079fee41b1": {
          "model_module": "@jupyter-widgets/base",
          "model_module_version": "1.2.0",
          "model_name": "LayoutModel",
          "state": {
            "_model_module": "@jupyter-widgets/base",
            "_model_module_version": "1.2.0",
            "_model_name": "LayoutModel",
            "_view_count": null,
            "_view_module": "@jupyter-widgets/base",
            "_view_module_version": "1.2.0",
            "_view_name": "LayoutView",
            "align_content": null,
            "align_items": null,
            "align_self": null,
            "border": null,
            "bottom": null,
            "display": null,
            "flex": null,
            "flex_flow": null,
            "grid_area": null,
            "grid_auto_columns": null,
            "grid_auto_flow": null,
            "grid_auto_rows": null,
            "grid_column": null,
            "grid_gap": null,
            "grid_row": null,
            "grid_template_areas": null,
            "grid_template_columns": null,
            "grid_template_rows": null,
            "height": null,
            "justify_content": null,
            "justify_items": null,
            "left": null,
            "margin": null,
            "max_height": null,
            "max_width": null,
            "min_height": null,
            "min_width": null,
            "object_fit": null,
            "object_position": null,
            "order": null,
            "overflow": null,
            "overflow_x": null,
            "overflow_y": null,
            "padding": null,
            "right": null,
            "top": null,
            "visibility": "hidden",
            "width": null
          }
        },
        "903ad7c018894450811f8b0e3a10c253": {
          "model_module": "@jupyter-widgets/base",
          "model_module_version": "1.2.0",
          "model_name": "LayoutModel",
          "state": {
            "_model_module": "@jupyter-widgets/base",
            "_model_module_version": "1.2.0",
            "_model_name": "LayoutModel",
            "_view_count": null,
            "_view_module": "@jupyter-widgets/base",
            "_view_module_version": "1.2.0",
            "_view_name": "LayoutView",
            "align_content": null,
            "align_items": null,
            "align_self": null,
            "border": null,
            "bottom": null,
            "display": null,
            "flex": null,
            "flex_flow": null,
            "grid_area": null,
            "grid_auto_columns": null,
            "grid_auto_flow": null,
            "grid_auto_rows": null,
            "grid_column": null,
            "grid_gap": null,
            "grid_row": null,
            "grid_template_areas": null,
            "grid_template_columns": null,
            "grid_template_rows": null,
            "height": null,
            "justify_content": null,
            "justify_items": null,
            "left": null,
            "margin": null,
            "max_height": null,
            "max_width": null,
            "min_height": null,
            "min_width": null,
            "object_fit": null,
            "object_position": null,
            "order": null,
            "overflow": null,
            "overflow_x": null,
            "overflow_y": null,
            "padding": null,
            "right": null,
            "top": null,
            "visibility": null,
            "width": null
          }
        },
        "91723b0258284e9d816538383e4dc00d": {
          "model_module": "@jupyter-widgets/base",
          "model_module_version": "1.2.0",
          "model_name": "LayoutModel",
          "state": {
            "_model_module": "@jupyter-widgets/base",
            "_model_module_version": "1.2.0",
            "_model_name": "LayoutModel",
            "_view_count": null,
            "_view_module": "@jupyter-widgets/base",
            "_view_module_version": "1.2.0",
            "_view_name": "LayoutView",
            "align_content": null,
            "align_items": null,
            "align_self": null,
            "border": null,
            "bottom": null,
            "display": null,
            "flex": null,
            "flex_flow": null,
            "grid_area": null,
            "grid_auto_columns": null,
            "grid_auto_flow": null,
            "grid_auto_rows": null,
            "grid_column": null,
            "grid_gap": null,
            "grid_row": null,
            "grid_template_areas": null,
            "grid_template_columns": null,
            "grid_template_rows": null,
            "height": null,
            "justify_content": null,
            "justify_items": null,
            "left": null,
            "margin": null,
            "max_height": null,
            "max_width": null,
            "min_height": null,
            "min_width": null,
            "object_fit": null,
            "object_position": null,
            "order": null,
            "overflow": null,
            "overflow_x": null,
            "overflow_y": null,
            "padding": null,
            "right": null,
            "top": null,
            "visibility": null,
            "width": null
          }
        },
        "97f969307110456fb0bfd6704cd1ca0d": {
          "model_module": "@jupyter-widgets/controls",
          "model_module_version": "1.5.0",
          "model_name": "DescriptionStyleModel",
          "state": {
            "_model_module": "@jupyter-widgets/controls",
            "_model_module_version": "1.5.0",
            "_model_name": "DescriptionStyleModel",
            "_view_count": null,
            "_view_module": "@jupyter-widgets/base",
            "_view_module_version": "1.2.0",
            "_view_name": "StyleView",
            "description_width": ""
          }
        },
        "9ab037319a9a483da59c2f8ceede822e": {
          "model_module": "@jupyter-widgets/controls",
          "model_module_version": "1.5.0",
          "model_name": "DescriptionStyleModel",
          "state": {
            "_model_module": "@jupyter-widgets/controls",
            "_model_module_version": "1.5.0",
            "_model_name": "DescriptionStyleModel",
            "_view_count": null,
            "_view_module": "@jupyter-widgets/base",
            "_view_module_version": "1.2.0",
            "_view_name": "StyleView",
            "description_width": ""
          }
        },
        "9f7bc331ad1842a48d69a990c2f7e25b": {
          "model_module": "@jupyter-widgets/controls",
          "model_module_version": "1.5.0",
          "model_name": "HTMLModel",
          "state": {
            "_dom_classes": [],
            "_model_module": "@jupyter-widgets/controls",
            "_model_module_version": "1.5.0",
            "_model_name": "HTMLModel",
            "_view_count": null,
            "_view_module": "@jupyter-widgets/controls",
            "_view_module_version": "1.5.0",
            "_view_name": "HTMLView",
            "description": "",
            "description_tooltip": null,
            "layout": "IPY_MODEL_91723b0258284e9d816538383e4dc00d",
            "placeholder": "​",
            "style": "IPY_MODEL_4478ebc6f580473dac120f8adb880060",
            "value": "100%"
          }
        },
        "9fedb16bb69a4487bc49a90a08de4604": {
          "model_module": "@jupyter-widgets/controls",
          "model_module_version": "1.5.0",
          "model_name": "FloatProgressModel",
          "state": {
            "_dom_classes": [],
            "_model_module": "@jupyter-widgets/controls",
            "_model_module_version": "1.5.0",
            "_model_name": "FloatProgressModel",
            "_view_count": null,
            "_view_module": "@jupyter-widgets/controls",
            "_view_module_version": "1.5.0",
            "_view_name": "ProgressView",
            "bar_style": "",
            "description": "",
            "description_tooltip": null,
            "layout": "IPY_MODEL_b7d82c44ac144c8085f9c52116647ac1",
            "max": 1051,
            "min": 0,
            "orientation": "horizontal",
            "style": "IPY_MODEL_533876ae8e5840518456e4358e596d26",
            "value": 1051
          }
        },
        "a1f0f1f4ae334f46addd0adb537e8545": {
          "model_module": "@jupyter-widgets/base",
          "model_module_version": "1.2.0",
          "model_name": "LayoutModel",
          "state": {
            "_model_module": "@jupyter-widgets/base",
            "_model_module_version": "1.2.0",
            "_model_name": "LayoutModel",
            "_view_count": null,
            "_view_module": "@jupyter-widgets/base",
            "_view_module_version": "1.2.0",
            "_view_name": "LayoutView",
            "align_content": null,
            "align_items": null,
            "align_self": null,
            "border": null,
            "bottom": null,
            "display": null,
            "flex": null,
            "flex_flow": null,
            "grid_area": null,
            "grid_auto_columns": null,
            "grid_auto_flow": null,
            "grid_auto_rows": null,
            "grid_column": null,
            "grid_gap": null,
            "grid_row": null,
            "grid_template_areas": null,
            "grid_template_columns": null,
            "grid_template_rows": null,
            "height": null,
            "justify_content": null,
            "justify_items": null,
            "left": null,
            "margin": null,
            "max_height": null,
            "max_width": null,
            "min_height": null,
            "min_width": null,
            "object_fit": null,
            "object_position": null,
            "order": null,
            "overflow": null,
            "overflow_x": null,
            "overflow_y": null,
            "padding": null,
            "right": null,
            "top": null,
            "visibility": "hidden",
            "width": null
          }
        },
        "a278cd52500e46dd933abd9152f16273": {
          "model_module": "@jupyter-widgets/controls",
          "model_module_version": "1.5.0",
          "model_name": "HBoxModel",
          "state": {
            "_dom_classes": [],
            "_model_module": "@jupyter-widgets/controls",
            "_model_module_version": "1.5.0",
            "_model_name": "HBoxModel",
            "_view_count": null,
            "_view_module": "@jupyter-widgets/controls",
            "_view_module_version": "1.5.0",
            "_view_name": "HBoxView",
            "box_style": "",
            "children": [
              "IPY_MODEL_0d94f78f698d4672852d8ebc72fa9901",
              "IPY_MODEL_199d200bd5334c4fa5feee7abb2f985d",
              "IPY_MODEL_02e379a3b5c4432dbdf69a446ec16339"
            ],
            "layout": "IPY_MODEL_8dbc1c432182467fba19bc079fee41b1"
          }
        },
        "a3ddfb86cad94ea68dedae59b5cce923": {
          "model_module": "@jupyter-widgets/controls",
          "model_module_version": "1.5.0",
          "model_name": "HTMLModel",
          "state": {
            "_dom_classes": [],
            "_model_module": "@jupyter-widgets/controls",
            "_model_module_version": "1.5.0",
            "_model_name": "HTMLModel",
            "_view_count": null,
            "_view_module": "@jupyter-widgets/controls",
            "_view_module_version": "1.5.0",
            "_view_name": "HTMLView",
            "description": "",
            "description_tooltip": null,
            "layout": "IPY_MODEL_903ad7c018894450811f8b0e3a10c253",
            "placeholder": "​",
            "style": "IPY_MODEL_9ab037319a9a483da59c2f8ceede822e",
            "value": "100%"
          }
        },
        "b7d82c44ac144c8085f9c52116647ac1": {
          "model_module": "@jupyter-widgets/base",
          "model_module_version": "1.2.0",
          "model_name": "LayoutModel",
          "state": {
            "_model_module": "@jupyter-widgets/base",
            "_model_module_version": "1.2.0",
            "_model_name": "LayoutModel",
            "_view_count": null,
            "_view_module": "@jupyter-widgets/base",
            "_view_module_version": "1.2.0",
            "_view_name": "LayoutView",
            "align_content": null,
            "align_items": null,
            "align_self": null,
            "border": null,
            "bottom": null,
            "display": null,
            "flex": null,
            "flex_flow": null,
            "grid_area": null,
            "grid_auto_columns": null,
            "grid_auto_flow": null,
            "grid_auto_rows": null,
            "grid_column": null,
            "grid_gap": null,
            "grid_row": null,
            "grid_template_areas": null,
            "grid_template_columns": null,
            "grid_template_rows": null,
            "height": null,
            "justify_content": null,
            "justify_items": null,
            "left": null,
            "margin": null,
            "max_height": null,
            "max_width": null,
            "min_height": null,
            "min_width": null,
            "object_fit": null,
            "object_position": null,
            "order": null,
            "overflow": null,
            "overflow_x": null,
            "overflow_y": null,
            "padding": null,
            "right": null,
            "top": null,
            "visibility": null,
            "width": null
          }
        },
        "bd85be352a8b45e5a1af06c3db7a62e5": {
          "model_module": "@jupyter-widgets/controls",
          "model_module_version": "1.5.0",
          "model_name": "HTMLModel",
          "state": {
            "_dom_classes": [],
            "_model_module": "@jupyter-widgets/controls",
            "_model_module_version": "1.5.0",
            "_model_name": "HTMLModel",
            "_view_count": null,
            "_view_module": "@jupyter-widgets/controls",
            "_view_module_version": "1.5.0",
            "_view_name": "HTMLView",
            "description": "",
            "description_tooltip": null,
            "layout": "IPY_MODEL_30d89d99cbc84ae098d2d9cc157be663",
            "placeholder": "​",
            "style": "IPY_MODEL_2c818a35dd4d48ea95d66b4d69516b3f",
            "value": " 262/262 [03:37&lt;00:00,  1.50it/s]"
          }
        },
        "cef880beb4d04e7f8575b136d225de7f": {
          "model_module": "@jupyter-widgets/base",
          "model_module_version": "1.2.0",
          "model_name": "LayoutModel",
          "state": {
            "_model_module": "@jupyter-widgets/base",
            "_model_module_version": "1.2.0",
            "_model_name": "LayoutModel",
            "_view_count": null,
            "_view_module": "@jupyter-widgets/base",
            "_view_module_version": "1.2.0",
            "_view_name": "LayoutView",
            "align_content": null,
            "align_items": null,
            "align_self": null,
            "border": null,
            "bottom": null,
            "display": null,
            "flex": null,
            "flex_flow": null,
            "grid_area": null,
            "grid_auto_columns": null,
            "grid_auto_flow": null,
            "grid_auto_rows": null,
            "grid_column": null,
            "grid_gap": null,
            "grid_row": null,
            "grid_template_areas": null,
            "grid_template_columns": null,
            "grid_template_rows": null,
            "height": null,
            "justify_content": null,
            "justify_items": null,
            "left": null,
            "margin": null,
            "max_height": null,
            "max_width": null,
            "min_height": null,
            "min_width": null,
            "object_fit": null,
            "object_position": null,
            "order": null,
            "overflow": null,
            "overflow_x": null,
            "overflow_y": null,
            "padding": null,
            "right": null,
            "top": null,
            "visibility": null,
            "width": null
          }
        },
        "d8dd9af2db32412388c1a3fc858593db": {
          "model_module": "@jupyter-widgets/controls",
          "model_module_version": "1.5.0",
          "model_name": "HTMLModel",
          "state": {
            "_dom_classes": [],
            "_model_module": "@jupyter-widgets/controls",
            "_model_module_version": "1.5.0",
            "_model_name": "HTMLModel",
            "_view_count": null,
            "_view_module": "@jupyter-widgets/controls",
            "_view_module_version": "1.5.0",
            "_view_name": "HTMLView",
            "description": "",
            "description_tooltip": null,
            "layout": "IPY_MODEL_25cc25fd5c6041aab4411657239d79d1",
            "placeholder": "​",
            "style": "IPY_MODEL_e208f76c4d844be9966bcdb4eb3e426e",
            "value": " 1051/1051 [15:41&lt;00:00,  1.08it/s]"
          }
        },
        "e040bc9ae23e4d9995985184f69d976b": {
          "model_module": "@jupyter-widgets/base",
          "model_module_version": "1.2.0",
          "model_name": "LayoutModel",
          "state": {
            "_model_module": "@jupyter-widgets/base",
            "_model_module_version": "1.2.0",
            "_model_name": "LayoutModel",
            "_view_count": null,
            "_view_module": "@jupyter-widgets/base",
            "_view_module_version": "1.2.0",
            "_view_name": "LayoutView",
            "align_content": null,
            "align_items": null,
            "align_self": null,
            "border": null,
            "bottom": null,
            "display": null,
            "flex": null,
            "flex_flow": null,
            "grid_area": null,
            "grid_auto_columns": null,
            "grid_auto_flow": null,
            "grid_auto_rows": null,
            "grid_column": null,
            "grid_gap": null,
            "grid_row": null,
            "grid_template_areas": null,
            "grid_template_columns": null,
            "grid_template_rows": null,
            "height": null,
            "justify_content": null,
            "justify_items": null,
            "left": null,
            "margin": null,
            "max_height": null,
            "max_width": null,
            "min_height": null,
            "min_width": null,
            "object_fit": null,
            "object_position": null,
            "order": null,
            "overflow": null,
            "overflow_x": null,
            "overflow_y": null,
            "padding": null,
            "right": null,
            "top": null,
            "visibility": "hidden",
            "width": null
          }
        },
        "e208f76c4d844be9966bcdb4eb3e426e": {
          "model_module": "@jupyter-widgets/controls",
          "model_module_version": "1.5.0",
          "model_name": "DescriptionStyleModel",
          "state": {
            "_model_module": "@jupyter-widgets/controls",
            "_model_module_version": "1.5.0",
            "_model_name": "DescriptionStyleModel",
            "_view_count": null,
            "_view_module": "@jupyter-widgets/base",
            "_view_module_version": "1.2.0",
            "_view_name": "StyleView",
            "description_width": ""
          }
        },
        "f59327ef821b45978e78342da374be3e": {
          "model_module": "@jupyter-widgets/base",
          "model_module_version": "1.2.0",
          "model_name": "LayoutModel",
          "state": {
            "_model_module": "@jupyter-widgets/base",
            "_model_module_version": "1.2.0",
            "_model_name": "LayoutModel",
            "_view_count": null,
            "_view_module": "@jupyter-widgets/base",
            "_view_module_version": "1.2.0",
            "_view_name": "LayoutView",
            "align_content": null,
            "align_items": null,
            "align_self": null,
            "border": null,
            "bottom": null,
            "display": null,
            "flex": null,
            "flex_flow": null,
            "grid_area": null,
            "grid_auto_columns": null,
            "grid_auto_flow": null,
            "grid_auto_rows": null,
            "grid_column": null,
            "grid_gap": null,
            "grid_row": null,
            "grid_template_areas": null,
            "grid_template_columns": null,
            "grid_template_rows": null,
            "height": null,
            "justify_content": null,
            "justify_items": null,
            "left": null,
            "margin": null,
            "max_height": null,
            "max_width": null,
            "min_height": null,
            "min_width": null,
            "object_fit": null,
            "object_position": null,
            "order": null,
            "overflow": null,
            "overflow_x": null,
            "overflow_y": null,
            "padding": null,
            "right": null,
            "top": null,
            "visibility": null,
            "width": null
          }
        },
        "f825373b30be415fb7232b730b101868": {
          "model_module": "@jupyter-widgets/base",
          "model_module_version": "1.2.0",
          "model_name": "LayoutModel",
          "state": {
            "_model_module": "@jupyter-widgets/base",
            "_model_module_version": "1.2.0",
            "_model_name": "LayoutModel",
            "_view_count": null,
            "_view_module": "@jupyter-widgets/base",
            "_view_module_version": "1.2.0",
            "_view_name": "LayoutView",
            "align_content": null,
            "align_items": null,
            "align_self": null,
            "border": null,
            "bottom": null,
            "display": null,
            "flex": null,
            "flex_flow": null,
            "grid_area": null,
            "grid_auto_columns": null,
            "grid_auto_flow": null,
            "grid_auto_rows": null,
            "grid_column": null,
            "grid_gap": null,
            "grid_row": null,
            "grid_template_areas": null,
            "grid_template_columns": null,
            "grid_template_rows": null,
            "height": null,
            "justify_content": null,
            "justify_items": null,
            "left": null,
            "margin": null,
            "max_height": null,
            "max_width": null,
            "min_height": null,
            "min_width": null,
            "object_fit": null,
            "object_position": null,
            "order": null,
            "overflow": null,
            "overflow_x": null,
            "overflow_y": null,
            "padding": null,
            "right": null,
            "top": null,
            "visibility": null,
            "width": null
          }
        },
        "fe496236e24444ef907f339ceb2aa62c": {
          "model_module": "@jupyter-widgets/controls",
          "model_module_version": "1.5.0",
          "model_name": "HTMLModel",
          "state": {
            "_dom_classes": [],
            "_model_module": "@jupyter-widgets/controls",
            "_model_module_version": "1.5.0",
            "_model_name": "HTMLModel",
            "_view_count": null,
            "_view_module": "@jupyter-widgets/controls",
            "_view_module_version": "1.5.0",
            "_view_name": "HTMLView",
            "description": "",
            "description_tooltip": null,
            "layout": "IPY_MODEL_882ae13ba1ff400c90c3c526f919a128",
            "placeholder": "​",
            "style": "IPY_MODEL_97f969307110456fb0bfd6704cd1ca0d",
            "value": "100%"
          }
        }
      }
    }
  },
  "nbformat": 4,
  "nbformat_minor": 0
}

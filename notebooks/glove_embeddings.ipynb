{
 "cells": [
  {
   "cell_type": "code",
   "execution_count": null,
   "metadata": {},
   "outputs": [],
   "source": [
    "import tensorflow as tf\n",
    "import numpy as np\n",
    "import json\n",
    "import os\n",
    "import time\n",
    "import pandas as pd\n",
    "import numpy as np"
   ]
  },
  {
   "cell_type": "code",
   "execution_count": null,
   "metadata": {},
   "outputs": [],
   "source": [
    "with open('../params.json', 'r') as f:\n",
    "    params = json.load(f)\n",
    "\n",
    "max_length = params['max_length']\n",
    "padding_type = params['padding_type']\n",
    "vocab_size = params['vocab_size']\n",
    "embedding_dim = params['embedding_dim']\n",
    "trunc_type = params['trunc_type']\n",
    "oov_tok = params['oov_tok']"
   ]
  },
  {
   "cell_type": "code",
   "execution_count": null,
   "metadata": {},
   "outputs": [],
   "source": [
    "train_x=np.load('../processed/train_padded.npy')\n",
    "train_y=np.load('../processed/train_y.npy')\n",
    "val_x=np.load('../processed/val_padded.npy')\n",
    "val_y=np.load('../processed/val_y.npy')\n",
    "word_index = json.load(open('../processed/word_index.json'))\n",
    "train_meta=pd.read_csv('../processed/train_meta.csv')\n",
    "val_meta=pd.read_csv('../processed/val_meta.csv')"
   ]
  },
  {
   "cell_type": "code",
   "execution_count": null,
   "metadata": {},
   "outputs": [],
   "source": [
    "len(word_index)"
   ]
  },
  {
   "cell_type": "code",
   "execution_count": null,
   "metadata": {},
   "outputs": [],
   "source": [
    "def embedding_for_vocab(filepath, word_index,\n",
    "\t\t\t\t\t\tembedding_dim):\n",
    "\tvocab_size = len(word_index) + 1\n",
    "\t\n",
    "\t# Adding again 1 because of reserved 0 index\n",
    "\tembedding_matrix_vocab = np.zeros((vocab_size,\n",
    "\t\t\t\t\t\t\t\t\tembedding_dim))\n",
    "\n",
    "\twith open(filepath, encoding=\"utf8\") as f:\n",
    "\t\tfor line in f:\n",
    "\t\t\tword, *vector = line.split()\n",
    "\t\t\tif word in word_index:\n",
    "\t\t\t\tidx = word_index[word]\n",
    "\t\t\t\tembedding_matrix_vocab[idx] = np.array(\n",
    "\t\t\t\t\tvector, dtype=np.float32)[:embedding_dim]\n",
    "\n",
    "\treturn embedding_matrix_vocab\n",
    "\n",
    "embedding_matrix_vocab = embedding_for_vocab(\n",
    "\t'../glove.twitter.27B/glove.twitter.27B.200d.txt', word_index,\n",
    "embedding_dim)"
   ]
  },
  {
   "cell_type": "code",
   "execution_count": null,
   "metadata": {},
   "outputs": [],
   "source": [
    "with open(f'../glove_embeddings_200d.npy','wb') as f:\n",
    "    np.save(f, embedding_matrix_vocab)"
   ]
  },
  {
   "cell_type": "code",
   "execution_count": null,
   "metadata": {},
   "outputs": [],
   "source": []
  }
 ],
 "metadata": {
  "kernelspec": {
   "display_name": "dl",
   "language": "python",
   "name": "python3"
  },
  "language_info": {
   "codemirror_mode": {
    "name": "ipython",
    "version": 3
   },
   "file_extension": ".py",
   "mimetype": "text/x-python",
   "name": "python",
   "nbconvert_exporter": "python",
   "pygments_lexer": "ipython3",
   "version": "3.9.18"
  }
 },
 "nbformat": 4,
 "nbformat_minor": 2
}
